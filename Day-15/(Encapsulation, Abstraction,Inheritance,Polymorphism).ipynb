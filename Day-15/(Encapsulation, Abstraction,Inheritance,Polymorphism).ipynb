{
 "cells": [
  {
   "cell_type": "markdown",
   "metadata": {},
   "source": [
    "# Association\n",
    "- Composition and aggregation are specialised form of Association. \n",
    "- Whereas Association is a relationship between two classes without any rules."
   ]
  },
  {
   "cell_type": "markdown",
   "metadata": {},
   "source": [
    "## Composition(HAS - A Relation) Strong Association\n",
    "\n",
    "- In composition, one of the classes is composed of one or more instance of other classes.\n",
    "- In other words, one class is container and other class is content and if you delete the container object then all of its      contents objects are also deleted."
   ]
  },
  {
   "cell_type": "markdown",
   "metadata": {},
   "source": [
    "### example 1"
   ]
  },
  {
   "cell_type": "code",
   "execution_count": 11,
   "metadata": {},
   "outputs": [
    {
     "name": "stdout",
     "output_type": "stream",
     "text": [
      "Welcome to myntra\n",
      "welcome to mens section\n",
      "welcome to women section\n",
      "welcome to mens footware\n",
      "thanks for searching crocs\n",
      "welcome to clothing\n",
      "thanks fot searching Gstar\n"
     ]
    }
   ],
   "source": [
    "class myntra:\n",
    "    def __init__(self):\n",
    "        print(\"Welcome to myntra\")\n",
    "        self.m = self.Mens()\n",
    "        self.w = self.womens()\n",
    "\n",
    "    class Mens:\n",
    "        def __init__(self):\n",
    "            print(\"welcome to mens section\")\n",
    "\n",
    "        class footware:\n",
    "            def __init__(self):\n",
    "                print(\"welcome to mens footware\")\n",
    "\n",
    "            def woodland(self):\n",
    "                print(\"Thanks for searching woodland\")\n",
    "\n",
    "            def crocs(self):\n",
    "                print(\"thanks for searching crocs\")\n",
    "\n",
    "        class clothing:\n",
    "            def __init__(self):\n",
    "                print(\"welcome to clothing\")\n",
    "\n",
    "            def Gstar(self):\n",
    "                print(\"thanks fot searching Gstar\")\n",
    "\n",
    "\n",
    "    class womens:\n",
    "        def __init__(self):\n",
    "            print(\"welcome to women section\")\n",
    "\n",
    "        class footware:\n",
    "            def __init__(self):\n",
    "                print(\"welcome to  women footware\")\n",
    "\n",
    "            def woodland(self):\n",
    "                print(\"Thanks for searching woodland\")\n",
    "\n",
    "            def crocs(self):\n",
    "                print(\"thanks for searching crocs\")\n",
    "\n",
    "        class clothing:\n",
    "            def __init__(self):\n",
    "                print(\"welcome to clothing\")\n",
    "\n",
    "            def Gstar(self):\n",
    "                print(\"thanks fot searching Gstar\")\n",
    "\n",
    "shopping = myntra()\n",
    "shopping.m.footware().crocs()\n",
    "shopping.w.clothing().Gstar()\n",
    "                        \n",
    "# shoping = myntra()\n",
    "# men = shoping.Mens()\n",
    "# foot = men.footware()\n",
    "# foot.woodland()\n",
    "\n",
    "\n",
    "# women = shoping.womens()\n",
    "# foot1 = women.footware()\n",
    "# foot1.woodland()"
   ]
  },
  {
   "cell_type": "markdown",
   "metadata": {},
   "source": [
    "### example 2"
   ]
  },
  {
   "cell_type": "code",
   "execution_count": 4,
   "metadata": {},
   "outputs": [
    {
     "name": "stdout",
     "output_type": "stream",
     "text": [
      "Welcome to xyz news\n",
      "movie news\n",
      "movie news\n",
      "movie news\n",
      "sports news\n",
      "sports news\n",
      "political news\n",
      "political news\n",
      "political news\n"
     ]
    }
   ],
   "source": [
    "class sports_news:\n",
    "    def sports_info(self):\n",
    "        print(\"sports news\")\n",
    "\n",
    "class political_news:\n",
    "    def political_info(self):\n",
    "        print(\"political news\")\n",
    "        \n",
    "class movie_news:\n",
    "    def movie_info(self):\n",
    "        print(\"movie news\")\n",
    "\n",
    "class xyz_news:\n",
    "    def __init__(self):\n",
    "        self.sports_news= sports_news()\n",
    "        self.political_news = political_news()\n",
    "        self.movie_news = movie_news()\n",
    "\n",
    "    def total_info(self):\n",
    "        print(\"Welcome to xyz news\")\n",
    "        self.movie_news.movie_info()\n",
    "        self.sports_news.sports_info()\n",
    "        self.political_news.political_info()\n",
    "\n",
    "ob = xyz_news()\n",
    "ob.total_info()"
   ]
  },
  {
   "cell_type": "markdown",
   "metadata": {},
   "source": [
    "## Aggregation( HAS- A Relation) Week association\n",
    "\n",
    "- Aggregation is a weak form of composition. If you delete the container object contents objects can\n",
    "- live without container object."
   ]
  },
  {
   "cell_type": "markdown",
   "metadata": {},
   "source": [
    "### example 1"
   ]
  },
  {
   "cell_type": "code",
   "execution_count": null,
   "metadata": {},
   "outputs": [],
   "source": [
    "class laptop:\n",
    "    def __init__(self, brand, color, inch):\n",
    "        self.brand = brand\n",
    "        self.color = color\n",
    "        self.inch = inch\n",
    "\n",
    "    def laptop_info(self):\n",
    "        print(f'laptop brand : {self.brand}\\n color : {self.color}\\n inch: {self.inch}')\n",
    "\n",
    "\n",
    "class emp:\n",
    "    def __init__(self, ename, eno, lpt):\n",
    "        self.ename = ename\n",
    "        self.eno = eno\n",
    "        self.lpt = lpt\n",
    "\n",
    "    def emp_info(self):\n",
    "        print('Emp Name', self.ename)\n",
    "        print(\"Emp No \", self.eno)\n",
    "        print(\"Emp laptop info :\", )\n",
    "        self.lpt.laptop_info()\n",
    "\n",
    "laptop1 = laptop(\"lenovo\", \"black\", 15)\n",
    "emp1 = emp(\"sharma\", 12121, laptop1)\n",
    "emp1.emp_info()\n",
    "\n",
    "\n"
   ]
  },
  {
   "cell_type": "markdown",
   "metadata": {},
   "source": [
    "# Inheritance ( IS -A relation)"
   ]
  },
  {
   "cell_type": "markdown",
   "metadata": {},
   "source": [
    "\n",
    "- Inheritance is a term that is used to describe a Python class within another class. Classes called subclasses or child    classes can inherit values from parent classes, similar to how children inherit characteristics from their parents in the real world.\n",
    "\n",
    "- Inheritance is useful because it allows us to create subclasses that have the same value types as a parent class, without having to declare those types multiple times"
   ]
  },
  {
   "cell_type": "markdown",
   "metadata": {},
   "source": [
    "## Single inheritance"
   ]
  },
  {
   "cell_type": "code",
   "execution_count": 60,
   "metadata": {},
   "outputs": [],
   "source": [
    "class parent: # base class, parent class\n",
    "    \n",
    "    def house(self):\n",
    "        print(\"I have house\")\n",
    "\n",
    "    def car(self):\n",
    "        print(\"I have car\")"
   ]
  },
  {
   "cell_type": "code",
   "execution_count": 61,
   "metadata": {},
   "outputs": [],
   "source": [
    "class child(parent): #Derived class , child class \n",
    "    \n",
    "    def bike(self):\n",
    "        print(\"I have Bike\")\n"
   ]
  },
  {
   "cell_type": "code",
   "execution_count": 79,
   "metadata": {
    "scrolled": true
   },
   "outputs": [
    {
     "name": "stdout",
     "output_type": "stream",
     "text": [
      "im parent\n",
      "im child\n",
      "I have house\n"
     ]
    }
   ],
   "source": [
    "ob = child()\n",
    "ob.house()"
   ]
  },
  {
   "cell_type": "markdown",
   "metadata": {},
   "source": [
    "## Multilevel inheritance"
   ]
  },
  {
   "cell_type": "code",
   "execution_count": 1,
   "metadata": {},
   "outputs": [],
   "source": [
    "class test:\n",
    "    def __init__(self):\n",
    "        self._a = 10\n",
    "        \n",
    "class test1(test):\n",
    "    def m1(self):\n",
    "        print(self._a)\n",
    "    "
   ]
  },
  {
   "cell_type": "code",
   "execution_count": 2,
   "metadata": {},
   "outputs": [
    {
     "name": "stdout",
     "output_type": "stream",
     "text": [
      "10\n"
     ]
    }
   ],
   "source": [
    "ob = test1()\n",
    "ob.m1()"
   ]
  },
  {
   "cell_type": "code",
   "execution_count": 63,
   "metadata": {},
   "outputs": [],
   "source": [
    "class parent: # base class, parent class\n",
    "    \n",
    "    def house(self):\n",
    "        print(\"I have house\")\n",
    "\n",
    "    def car(self):\n",
    "        print(\"I have car\")\n",
    "    \n",
    "class child(parent): #Derived class , child class \n",
    "    \n",
    "    def bike(self):\n",
    "        print(\"I have Bike\")\n",
    "    \n",
    "class grandchild(child):\n",
    "    \n",
    "    def cycle(self):\n",
    "        print(\"I have cycle\")\n"
   ]
  },
  {
   "cell_type": "code",
   "execution_count": 64,
   "metadata": {},
   "outputs": [
    {
     "name": "stdout",
     "output_type": "stream",
     "text": [
      "I have house\n"
     ]
    }
   ],
   "source": [
    "g1 = grandchild()\n",
    "g1.house()"
   ]
  },
  {
   "cell_type": "markdown",
   "metadata": {},
   "source": [
    "## Hierarchical inheritance"
   ]
  },
  {
   "cell_type": "code",
   "execution_count": 65,
   "metadata": {},
   "outputs": [],
   "source": [
    "\n",
    "class parent:\n",
    "\n",
    "    def house(self):\n",
    "        print(\"Iam parent, I have hosue\")\n",
    "\n",
    "class child1(parent):\n",
    "\n",
    "    def car(self):\n",
    "        print(\"Iam child, I have car\")\n",
    "\n",
    "class child2(parent):\n",
    "\n",
    "    def bike(self):\n",
    "        print(\"Iam grand child, I have bike\")\n",
    "\n",
    "ob = child2()\n",
    "ob."
   ]
  },
  {
   "cell_type": "markdown",
   "metadata": {},
   "source": [
    "## multiple inheritance"
   ]
  },
  {
   "cell_type": "code",
   "execution_count": null,
   "metadata": {},
   "outputs": [],
   "source": [
    "\n",
    "class father:\n",
    "\n",
    "    def house(self):\n",
    "        print(\"Iam parent, I have hosue\")\n",
    "\n",
    "class mother:\n",
    "\n",
    "    def car(self):\n",
    "        print(\"Iam child, I have car\")\n",
    "\n",
    "class child(father, mother):\n",
    "\n",
    "    def bike(self):\n",
    "        print(\"Iam grand child, I have bike\")\n",
    "\n",
    "ob = child()\n",
    "ob."
   ]
  },
  {
   "cell_type": "code",
   "execution_count": 67,
   "metadata": {},
   "outputs": [
    {
     "name": "stdout",
     "output_type": "stream",
     "text": [
      "I have house\n"
     ]
    }
   ],
   "source": [
    "ccc1 = child()\n",
    "ccc1.house()"
   ]
  },
  {
   "cell_type": "code",
   "execution_count": 82,
   "metadata": {},
   "outputs": [],
   "source": [
    "class parent: # base class, parent class\n",
    "    \n",
    "    def __init__(self):\n",
    "        print(\"im parent\")\n",
    "        \n",
    "    def house(self):\n",
    "        print(\"I have house\")\n",
    "\n",
    "    def car(self):\n",
    "        print(\"I have car\")\n",
    "    \n",
    "class child(parent): #Derived class , child class \n",
    "    \n",
    "    def __init__(self):\n",
    "        super().__init__()\n",
    "        print(\"im child\")\n",
    "    \n",
    "    def bike(self):\n",
    "        print(\"I have Bike\")\n"
   ]
  },
  {
   "cell_type": "code",
   "execution_count": 83,
   "metadata": {},
   "outputs": [
    {
     "name": "stdout",
     "output_type": "stream",
     "text": [
      "im parent\n",
      "im child\n"
     ]
    }
   ],
   "source": [
    "obb = child()"
   ]
  },
  {
   "cell_type": "markdown",
   "metadata": {},
   "source": [
    "# Encapsulation"
   ]
  },
  {
   "cell_type": "code",
   "execution_count": null,
   "metadata": {},
   "outputs": [],
   "source": [
    "#public: Public  (generally members declared in a class) are accessible from outside the class.\n",
    "#protected: The members of a class that are declared protected are only accessible terived from o a class dit. adding a single underscore ‘_’ symbol before the data member\n",
    "# private:The members of a class that are declared private are accessible within the class only,\n",
    "        #private access modifier is the most secure access modifier. adding a double underscore ‘__’ symbol before the data member"
   ]
  },
  {
   "cell_type": "code",
   "execution_count": 86,
   "metadata": {},
   "outputs": [
    {
     "name": "stdout",
     "output_type": "stream",
     "text": [
      "10\n",
      "20\n"
     ]
    },
    {
     "ename": "AttributeError",
     "evalue": "'example' object has no attribute '__salary2'",
     "output_type": "error",
     "traceback": [
      "\u001b[1;31m---------------------------------------------------------------------------\u001b[0m",
      "\u001b[1;31mAttributeError\u001b[0m                            Traceback (most recent call last)",
      "\u001b[1;32m<ipython-input-86-d162effc7d2c>\u001b[0m in \u001b[0;36m<module>\u001b[1;34m\u001b[0m\n\u001b[0;32m     14\u001b[0m \u001b[0mprint\u001b[0m\u001b[1;33m(\u001b[0m\u001b[0me1\u001b[0m\u001b[1;33m.\u001b[0m\u001b[0msalary\u001b[0m\u001b[1;33m)\u001b[0m\u001b[1;33m\u001b[0m\u001b[1;33m\u001b[0m\u001b[0m\n\u001b[0;32m     15\u001b[0m \u001b[0mprint\u001b[0m\u001b[1;33m(\u001b[0m\u001b[0me1\u001b[0m\u001b[1;33m.\u001b[0m\u001b[0m_salary1\u001b[0m\u001b[1;33m)\u001b[0m\u001b[1;33m\u001b[0m\u001b[1;33m\u001b[0m\u001b[0m\n\u001b[1;32m---> 16\u001b[1;33m \u001b[0mprint\u001b[0m\u001b[1;33m(\u001b[0m\u001b[0me1\u001b[0m\u001b[1;33m.\u001b[0m\u001b[0m__salary2\u001b[0m\u001b[1;33m)\u001b[0m\u001b[1;33m\u001b[0m\u001b[1;33m\u001b[0m\u001b[0m\n\u001b[0m\u001b[0;32m     17\u001b[0m \u001b[1;33m\u001b[0m\u001b[0m\n\u001b[0;32m     18\u001b[0m \u001b[1;33m\u001b[0m\u001b[0m\n",
      "\u001b[1;31mAttributeError\u001b[0m: 'example' object has no attribute '__salary2'"
     ]
    }
   ],
   "source": [
    "class example:\n",
    "    def __init__(self):\n",
    "        self.salary= 10 # public full access\n",
    "        self._salary1 = 20 # protected accessed by same class and derived class \n",
    "        self.__salary2 = 30 # private\n",
    "        \n",
    "    def get_private(self):\n",
    "        return self.__salary2\n",
    "    \n",
    "    def set_new_speed(self, new_salary):\n",
    "        self.__salary2= new_salary\n",
    "        \n",
    "e1 = example()\n",
    "print(e1.salary)\n",
    "print(e1._salary1)\n",
    "print(e1.__salary2)\n",
    "\n",
    "\n"
   ]
  },
  {
   "cell_type": "code",
   "execution_count": 89,
   "metadata": {},
   "outputs": [
    {
     "data": {
      "text/plain": [
       "30000"
      ]
     },
     "execution_count": 89,
     "metadata": {},
     "output_type": "execute_result"
    }
   ],
   "source": [
    "class customer:\n",
    "    def __init__(self, n, bankacc, bankbalance):\n",
    "        self.name = n # public full access\n",
    "        self._bankacc = bankacc # protected accessed by same class and subclass\n",
    "        self.__bankbalance= bankbalance # private\n",
    "        \n",
    "    def get(self):\n",
    "        return self.__bankbalance\n",
    "    \n",
    "    def set_bankbalance(self, updatedbankbalance):\n",
    "        self.__bankbalance = updatedbankbalance\n",
    "    \n",
    "b1 = customer('john', 12345, 20000)\n",
    "\n",
    "b1.set_bankbalance(30000)\n",
    "b1.get()\n",
    "\n",
    "\n",
    "#print(b1._customer__bankbalance)"
   ]
  },
  {
   "cell_type": "code",
   "execution_count": 13,
   "metadata": {},
   "outputs": [
    {
     "name": "stdout",
     "output_type": "stream",
     "text": [
      "10\n",
      "20\n",
      "30\n",
      "10\n"
     ]
    }
   ],
   "source": [
    "class example:\n",
    "    def __init__(self):\n",
    "        self.x= 10\n",
    "        self._y = 20 \n",
    "        self.__z = 30\n",
    "    \n",
    "    def public_method(self):\n",
    "        print(self.x)\n",
    "        print(self._y)\n",
    "        print(self.__z)\n",
    "        self.__private_method()\n",
    "    \n",
    "    def __private_method(self):\n",
    "        print(self.x)\n",
    "    \n",
    "e2 = example()\n",
    "\n",
    "e2.public_method()"
   ]
  },
  {
   "cell_type": "markdown",
   "metadata": {},
   "source": [
    "# Abstraction"
   ]
  },
  {
   "cell_type": "markdown",
   "metadata": {},
   "source": [
    "- By default, Python does not provide abstract classes. Python comes with a module which provides the base for defining Abstract Base classes(ABC) and that module name is ABC. ABC works by decorating methods of the base class as abstract and then registering concrete classes as implementations of the abstract base. A method becomes abstract when decorated with the keyword @abstractmethod."
   ]
  },
  {
   "cell_type": "code",
   "execution_count": 1,
   "metadata": {},
   "outputs": [],
   "source": [
    "class parent: \n",
    "    \n",
    "    def add(self):\n",
    "        pass\n",
    "\n",
    "    def sub(self):\n",
    "        pass\n",
    "\n",
    "class child(parent): \n",
    "    \n",
    "    def __init__(self, n):\n",
    "        self.num = n\n",
    "        \n",
    "\n",
    "p1 = parent()\n",
    "c1 = child(10)\n"
   ]
  },
  {
   "cell_type": "code",
   "execution_count": null,
   "metadata": {},
   "outputs": [],
   "source": [
    "# What if i don't want to allow any user to create a object of my parent class\n",
    "# Methods of parents class sholud be implemented in child class\n",
    "#The Abstract method is just providing a declaration. The child classes need to provide the definition. "
   ]
  },
  {
   "cell_type": "code",
   "execution_count": 11,
   "metadata": {},
   "outputs": [
    {
     "data": {
      "text/plain": [
       "10"
      ]
     },
     "execution_count": 11,
     "metadata": {},
     "output_type": "execute_result"
    }
   ],
   "source": [
    "#We use Abstraction for hiding the internal details or implementations of a function and showing its functionalities only.\n",
    "\"\"\"\n",
    "Any class with at least one abstract function is an abstract class. \n",
    "In order to create an abstraction class first, you need to import ABC class from abc module. \n",
    "This lets you create abstract methods inside it. ABC stands for Abstract Base Class.\n",
    "from abc import ABC, abstractmethod\n",
    "\"\"\"\n",
    "\n",
    "#parent is the abstract class that inherits from the ABC class from the abc module.\n",
    "\n",
    "class parent(ABC): \n",
    "    \n",
    "\n",
    "    def add(self): #concrete method\n",
    "        pass\n",
    "    \n",
    "    \n",
    "    @abstractmethod\n",
    "    def sub(self):  #abstract method\n",
    "        pass\n",
    "\n",
    "class child(parent): \n",
    "    \n",
    "    def __init__(self, n1, n2):\n",
    "        self.num1 = n1\n",
    "        self.num2 = n2\n",
    "        \n",
    "    def add(self):\n",
    "        return self.num1 + self.num2\n",
    "    \n",
    "    def sub(self):\n",
    "        return self.num1 - self.num2\n",
    "    \n",
    "c1 = child(6,4)\n",
    "c1.add()"
   ]
  },
  {
   "cell_type": "code",
   "execution_count": 6,
   "metadata": {},
   "outputs": [
    {
     "ename": "TypeError",
     "evalue": "Can't instantiate abstract class child with abstract methods sub",
     "output_type": "error",
     "traceback": [
      "\u001b[1;31m---------------------------------------------------------------------------\u001b[0m",
      "\u001b[1;31mTypeError\u001b[0m                                 Traceback (most recent call last)",
      "\u001b[1;32m<ipython-input-6-6809ccf4ce34>\u001b[0m in \u001b[0;36m<module>\u001b[1;34m\u001b[0m\n\u001b[0;32m     19\u001b[0m \u001b[1;33m\u001b[0m\u001b[0m\n\u001b[0;32m     20\u001b[0m \u001b[1;33m\u001b[0m\u001b[0m\n\u001b[1;32m---> 21\u001b[1;33m \u001b[0mc1\u001b[0m \u001b[1;33m=\u001b[0m \u001b[0mchild\u001b[0m\u001b[1;33m(\u001b[0m\u001b[1;36m5\u001b[0m\u001b[1;33m,\u001b[0m\u001b[1;36m6\u001b[0m\u001b[1;33m)\u001b[0m\u001b[1;33m\u001b[0m\u001b[1;33m\u001b[0m\u001b[0m\n\u001b[0m\u001b[0;32m     22\u001b[0m \u001b[0mc1\u001b[0m\u001b[1;33m.\u001b[0m\u001b[0madd\u001b[0m\u001b[1;33m(\u001b[0m\u001b[1;33m)\u001b[0m\u001b[1;33m\u001b[0m\u001b[1;33m\u001b[0m\u001b[0m\n",
      "\u001b[1;31mTypeError\u001b[0m: Can't instantiate abstract class child with abstract methods sub"
     ]
    }
   ],
   "source": [
    "\n",
    "class parent(ABC): \n",
    "    \n",
    "    @abstractmethod\n",
    "    def add(self):\n",
    "        pass\n",
    "    @abstractmethod\n",
    "    def sub(self):\n",
    "        pass\n",
    "\n",
    "class child(parent): \n",
    "    \n",
    "    def __init__(self, n1, n2):\n",
    "        self.num1 = n1\n",
    "        self.num2 = n2\n",
    "        \n",
    "    def add(self):\n",
    "        return self.num1 + self.num2\n",
    "        \n",
    "   \n",
    "c1 = child(5,6)\n",
    "c1.add()"
   ]
  },
  {
   "cell_type": "markdown",
   "metadata": {},
   "source": [
    "# Polymorphism"
   ]
  },
  {
   "cell_type": "markdown",
   "metadata": {},
   "source": [
    "## operator overloading"
   ]
  },
  {
   "cell_type": "code",
   "execution_count": 73,
   "metadata": {},
   "outputs": [
    {
     "name": "stdout",
     "output_type": "stream",
     "text": [
      "3\n",
      "helloworld\n",
      "(1, 2, 3, 4, 5, 6)\n"
     ]
    }
   ],
   "source": [
    "#operator overloading\n",
    "a = 1\n",
    "b = 2\n",
    "print(a+b)\n",
    "\n",
    "c = \"hello\"\n",
    "d = \"world\"\n",
    "print(c+d)\n",
    "\n",
    "e = (1,2,3)\n",
    "f = (4,5,6)\n",
    "print(e+f)"
   ]
  },
  {
   "cell_type": "code",
   "execution_count": null,
   "metadata": {},
   "outputs": [],
   "source": [
    "a+b "
   ]
  },
  {
   "cell_type": "code",
   "execution_count": 98,
   "metadata": {},
   "outputs": [
    {
     "name": "stdout",
     "output_type": "stream",
     "text": [
      "3\n",
      "helloworld\n",
      "(1, 2, 3, 4, 5, 6)\n"
     ]
    }
   ],
   "source": [
    "print(int.__add__(a,b))\n",
    "print(str.__add__(c,d))\n",
    "print(tuple.__add__(e,f))"
   ]
  },
  {
   "cell_type": "code",
   "execution_count": 75,
   "metadata": {},
   "outputs": [
    {
     "ename": "TypeError",
     "evalue": "unsupported operand type(s) for +: 'exp' and 'exp'",
     "output_type": "error",
     "traceback": [
      "\u001b[1;31m---------------------------------------------------------------------------\u001b[0m",
      "\u001b[1;31mTypeError\u001b[0m                                 Traceback (most recent call last)",
      "\u001b[1;32m<ipython-input-75-f943695cea17>\u001b[0m in \u001b[0;36m<module>\u001b[1;34m\u001b[0m\n\u001b[0;32m      6\u001b[0m \u001b[0me2\u001b[0m \u001b[1;33m=\u001b[0m \u001b[0mexp\u001b[0m\u001b[1;33m(\u001b[0m\u001b[1;36m2000\u001b[0m\u001b[1;33m)\u001b[0m\u001b[1;33m\u001b[0m\u001b[1;33m\u001b[0m\u001b[0m\n\u001b[0;32m      7\u001b[0m \u001b[1;33m\u001b[0m\u001b[0m\n\u001b[1;32m----> 8\u001b[1;33m \u001b[0mprint\u001b[0m\u001b[1;33m(\u001b[0m\u001b[0me1\u001b[0m\u001b[1;33m+\u001b[0m\u001b[0me2\u001b[0m\u001b[1;33m)\u001b[0m\u001b[1;33m\u001b[0m\u001b[1;33m\u001b[0m\u001b[0m\n\u001b[0m",
      "\u001b[1;31mTypeError\u001b[0m: unsupported operand type(s) for +: 'exp' and 'exp'"
     ]
    }
   ],
   "source": [
    "class exp:\n",
    "    def __init__(self, exp):\n",
    "        self.exp = exp\n",
    "    \n",
    "e1 = exp(1000)\n",
    "e2 = exp(2000)\n",
    "\n",
    "print(e1 + e2)"
   ]
  },
  {
   "cell_type": "code",
   "execution_count": 76,
   "metadata": {},
   "outputs": [
    {
     "name": "stdout",
     "output_type": "stream",
     "text": [
      "3000\n"
     ]
    }
   ],
   "source": [
    "class exp:\n",
    "    def __init__(self, exp):\n",
    "        self.exp = exp\n",
    "    \n",
    "    def __add__(self, other):\n",
    "        return (self.exp + other.exp)\n",
    "    \n",
    "e1 = exp(1000)\n",
    "e2 = exp(2000)\n",
    "\n",
    "print(e1 + e2)#e1.__add__(e2)"
   ]
  },
  {
   "cell_type": "code",
   "execution_count": null,
   "metadata": {},
   "outputs": [],
   "source": [
    "class expenses:\n",
    "    def __init__(self, value):r\n",
    "        self.value = value\n",
    "\n",
    "    def __add__(self, other):\n",
    "        return expenses(self.value + other.value)\n",
    "\n",
    "    def __str__(self):\n",
    "        return f\"{self.value}\"\n",
    "a1 = expenses(10)\n",
    "a2 = expenses(20)\n",
    "a3 =expenses(30)\n",
    "print(a1+a2+a3)\n"
   ]
  },
  {
   "cell_type": "code",
   "execution_count": null,
   "metadata": {},
   "outputs": [],
   "source": [
    "+ __add__(self, other)\n",
    "- __sub__(self, other)\n",
    "* __mul__(self, other)\n",
    "/  __div__(self, other)\n",
    "// __floordiv__(self, other)\n",
    "%  __mod__(self, other)\n",
    "** __pow__(self, other)\n",
    "+= __iadd__(self, other)\n",
    "-=__isub__(self, other)\n",
    "*=__imul__(self, other)\n",
    "/=__idiv__(self, other)\n",
    "//=__ifloordic__(self, other)\n",
    "**=__ipow__(self, other)\n",
    "<__lt____(self, other)\n",
    "<=__le__(self, other)\n",
    ">__gt__(self, other)"
   ]
  },
  {
   "cell_type": "code",
   "execution_count": null,
   "metadata": {},
   "outputs": [],
   "source": []
  }
 ],
 "metadata": {
  "kernelspec": {
   "display_name": "Python 3",
   "language": "python",
   "name": "python3"
  },
  "language_info": {
   "codemirror_mode": {
    "name": "ipython",
    "version": 3
   },
   "file_extension": ".py",
   "mimetype": "text/x-python",
   "name": "python",
   "nbconvert_exporter": "python",
   "pygments_lexer": "ipython3",
   "version": "3.7.3"
  },
  "toc": {
   "base_numbering": 1,
   "nav_menu": {},
   "number_sections": true,
   "sideBar": true,
   "skip_h1_title": false,
   "title_cell": "Table of Contents",
   "title_sidebar": "Contents",
   "toc_cell": false,
   "toc_position": {},
   "toc_section_display": true,
   "toc_window_display": true
  }
 },
 "nbformat": 4,
 "nbformat_minor": 2
}
