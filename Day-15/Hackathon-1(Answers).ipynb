{
 "cells": [
  {
   "cell_type": "markdown",
   "metadata": {},
   "source": [
    "# if Statements"
   ]
  },
  {
   "cell_type": "code",
   "execution_count": null,
   "metadata": {},
   "outputs": [],
   "source": [
    "#increment the value by 1\n"
   ]
  },
  {
   "cell_type": "code",
   "execution_count": null,
   "metadata": {},
   "outputs": [],
   "source": [
    "#Determine weather a person is eligible to vote by using  input \n",
    "age = int(input(\"Enter your age: \"))\n",
    "if age > 18:\n",
    "    print(\"You are eligible to Vote\")\n"
   ]
  },
  {
   "cell_type": "markdown",
   "metadata": {},
   "source": [
    "# if - else Statements"
   ]
  },
  {
   "cell_type": "code",
   "execution_count": null,
   "metadata": {},
   "outputs": [],
   "source": [
    "#Determine weather a person is eligible to vote by using input\n",
    "age = int(input(\"Enter your age: \"))\n",
    "if age > 18:\n",
    "    print(\"You are eligible to Vote\")\n",
    "else:\n",
    "    years = 18- age\n",
    "    print(\"You still need\", years, \"years to caste your vote\")\n",
    "    "
   ]
  },
  {
   "cell_type": "code",
   "execution_count": 1,
   "metadata": {},
   "outputs": [
    {
     "name": "stdout",
     "output_type": "stream",
     "text": [
      "Enter your age: 10\n",
      "10 Number Is Even\n"
     ]
    }
   ],
   "source": [
    "#find the number is even or odd by using input \n",
    "number = int(input(\"Enter your age: \"))\n",
    "\n",
    "if number % 2 == 0:\n",
    "    print(number,'Number Is Even')\n",
    "else:\n",
    "    print(number,'Number is Odd')\n"
   ]
  },
  {
   "cell_type": "code",
   "execution_count": 2,
   "metadata": {},
   "outputs": [
    {
     "name": "stdout",
     "output_type": "stream",
     "text": [
      "Enter you salary :10000\n",
      "Enter yor Gender m or f:m\n",
      "Actual salary : 10000\n",
      "Bonus : 1000.0\n",
      "Final salary : 11000.0\n"
     ]
    }
   ],
   "source": [
    "# A company decides to give bonus to all its employees on New year. A 10% bonus on salary for all the male workers and\n",
    "# 25% to females. build a programme to enter Salary and Gender(m or F) of employee. \n",
    "\n",
    "sal = int(input(\"Enter you salary :\"))\n",
    "gen = input(\"Enter yor Gender m or f:\")\n",
    "\n",
    "if gen.lower() == 'm':\n",
    "    bonus = sal*0.10\n",
    "else:\n",
    "    bonus = sal*0.25\n",
    "final_sal = sal+bonus\n",
    "print(\"Actual salary :\", sal)\n",
    "print(\"Bonus :\", bonus)\n",
    "print(\"Final salary :\", final_sal)"
   ]
  },
  {
   "cell_type": "markdown",
   "metadata": {},
   "source": [
    "# if -elif- else Statement"
   ]
  },
  {
   "cell_type": "code",
   "execution_count": 3,
   "metadata": {
    "scrolled": true
   },
   "outputs": [
    {
     "name": "stdout",
     "output_type": "stream",
     "text": [
      "enter a number to test10\n",
      "Positive number\n"
     ]
    }
   ],
   "source": [
    "# check weather the number is positive or negitive or equal to zero using input\n",
    "num = int(input(\"enter a number to test\"))\n",
    "if num > 0:\n",
    "    print(\"Positive number\")\n",
    "elif num == 0:\n",
    "    print(\"Zero\")\n",
    "else:\n",
    "    print(\"Negative number\")\n"
   ]
  },
  {
   "cell_type": "code",
   "execution_count": 4,
   "metadata": {},
   "outputs": [
    {
     "data": {
      "text/plain": [
       "['a', 'e', 'i', 'o', 'u']"
      ]
     },
     "execution_count": 4,
     "metadata": {},
     "output_type": "execute_result"
    }
   ],
   "source": [
    "list('aeiou')"
   ]
  },
  {
   "cell_type": "code",
   "execution_count": 3,
   "metadata": {},
   "outputs": [
    {
     "name": "stdout",
     "output_type": "stream",
     "text": [
      "Enter any letter: D\n",
      "D is not vowel\n"
     ]
    }
   ],
   "source": [
    "# Test Weather the charcter is vowel or not vowel using input\n",
    "let = input(\"Enter any letter: \")\n",
    "\n",
    "if let in list('aeiou'):\n",
    "    print(let, \"is vowel\")\n",
    "    \n",
    "elif let in list('AEIOU'):\n",
    "    print(let, \"is vowel\")\n",
    "    \n",
    "else:\n",
    "    print(let, \"is not vowel\")\n",
    "    "
   ]
  },
  {
   "cell_type": "code",
   "execution_count": 8,
   "metadata": {},
   "outputs": [
    {
     "name": "stdout",
     "output_type": "stream",
     "text": [
      "Enter a number : 3\n",
      "3 odd\n"
     ]
    }
   ],
   "source": [
    "#Given an integer input perform the following conditional actions:\n",
    "\n",
    "#If n is odd, print odd\n",
    "#If n is even and in the inclusive range of 2 to 5, print small\n",
    "#If n is even and in the inclusive range of 6 to 20, print medium\n",
    "#If n is even and greater than 20, print big\n",
    "\n",
    "n = int(input(\"Enter a number : \"))\n",
    "\n",
    "if n%2==0:\n",
    "    if n >= 2 and n <=5:\n",
    "        print(n, \"small\")\n",
    "    elif n>= 6 and n <=20:\n",
    "        print(n,\"Medium\")\n",
    "    elif n>20:\n",
    "        print(n, \"big\")\n",
    "else:\n",
    "    print(n, \"odd\")\n",
    "    \n",
    "\n"
   ]
  },
  {
   "cell_type": "markdown",
   "metadata": {},
   "source": [
    "# while loop "
   ]
  },
  {
   "cell_type": "code",
   "execution_count": 1,
   "metadata": {},
   "outputs": [
    {
     "name": "stdout",
     "output_type": "stream",
     "text": [
      "1\n",
      "2\n",
      "3\n",
      "4\n",
      "5\n",
      "6\n",
      "7\n",
      "8\n",
      "9\n",
      "10\n"
     ]
    }
   ],
   "source": [
    "# print first 10 numbers \n",
    "i = 1\n",
    "\n",
    "while i <= 10:\n",
    "    print(i)\n",
    "    i += 1\n"
   ]
  },
  {
   "cell_type": "code",
   "execution_count": 10,
   "metadata": {},
   "outputs": [
    {
     "name": "stdout",
     "output_type": "stream",
     "text": [
      "Sum     =  55\n",
      "Average =  5\n"
     ]
    }
   ],
   "source": [
    "# find average and sum for first 10 numbers \n",
    "count = 1\n",
    "sum1 = 0\n",
    "avg = 0\n",
    "\n",
    "while count <= 10:\n",
    "    sum1 += count\n",
    "    count += 1\n",
    "    avg = sum1 // count\n",
    "\n",
    "\n",
    "print('Sum     = ',sum1)\n",
    "print('Average = ',avg)\n"
   ]
  },
  {
   "cell_type": "code",
   "execution_count": 14,
   "metadata": {},
   "outputs": [
    {
     "name": "stdout",
     "output_type": "stream",
     "text": [
      "- - - - - - - - - - - - - - - - - - - - - - - - - - - - - - - - - - - - - - - - - - - - - - - - - - "
     ]
    }
   ],
   "source": [
    "#Draw a line using while loop \n",
    "i = 1\n",
    "\n",
    "while i <= 50:\n",
    "    print('-', end= ' ')\n",
    "    i += 1"
   ]
  },
  {
   "cell_type": "code",
   "execution_count": 15,
   "metadata": {},
   "outputs": [
    {
     "name": "stdout",
     "output_type": "stream",
     "text": [
      "Enter a number : 10\n",
      "Enter a number : 20\n",
      "165\n"
     ]
    }
   ],
   "source": [
    "#calculate the sum of m to n  numbers using input\n",
    "m = int(input(\"Enter a number : \"))\n",
    "n = int(input(\"Enter a number : \"))\n",
    "sum = 0\n",
    "while m <= n:\n",
    "    sum = sum + m\n",
    "    m += 1\n",
    "print(sum)\n"
   ]
  },
  {
   "cell_type": "code",
   "execution_count": 2,
   "metadata": {},
   "outputs": [
    {
     "name": "stdout",
     "output_type": "stream",
     "text": [
      "10\n",
      "9\n",
      "8\n",
      "7\n",
      "6\n",
      "5\n",
      "4\n",
      "3\n",
      "2\n",
      "1\n",
      "0\n"
     ]
    }
   ],
   "source": [
    "# countdown 10 to 0 using input\n",
    "i = 10\n",
    "while i >= 0:\n",
    "  print(i)\n",
    "  i = i - 1\n"
   ]
  },
  {
   "cell_type": "markdown",
   "metadata": {},
   "source": [
    "# for loop "
   ]
  },
  {
   "cell_type": "code",
   "execution_count": 18,
   "metadata": {},
   "outputs": [
    {
     "name": "stdout",
     "output_type": "stream",
     "text": [
      "Input a number: 2\n",
      "2 x 1 = 2\n",
      "2 x 2 = 4\n",
      "2 x 3 = 6\n",
      "2 x 4 = 8\n",
      "2 x 5 = 10\n",
      "2 x 6 = 12\n",
      "2 x 7 = 14\n",
      "2 x 8 = 16\n",
      "2 x 9 = 18\n",
      "2 x 10 = 20\n",
      "2 x 11 = 22\n"
     ]
    }
   ],
   "source": [
    "#Multiplication table using input\n",
    "n = int(input(\"Input a number: \"))\n",
    "for i in range(1,12):\n",
    " print(n,'x',i,'=',n*i)"
   ]
  },
  {
   "cell_type": "code",
   "execution_count": 19,
   "metadata": {},
   "outputs": [
    {
     "name": "stdout",
     "output_type": "stream",
     "text": [
      "1 is odd\n",
      "2 is even\n",
      "3 is odd\n",
      "4 is even\n",
      "5 is odd\n",
      "6 is even\n",
      "7 is odd\n",
      "8 is even\n",
      "9 is odd\n"
     ]
    }
   ],
   "source": [
    "#print even and odd for range of number\n",
    "\n",
    "for i in range(1,10):\n",
    "    if i % 2 == 0:\n",
    "        print('{} is {}'.format(i,'even'))\n",
    "    else:\n",
    "        print('{} is {}'.format(i,'odd'))\n"
   ]
  },
  {
   "cell_type": "code",
   "execution_count": 20,
   "metadata": {},
   "outputs": [
    {
     "name": "stdout",
     "output_type": "stream",
     "text": [
      "p\n",
      "r\n"
     ]
    }
   ],
   "source": [
    "# break statement\n",
    "for val in \"priyanka\":\n",
    "    if val == \"i\":\n",
    "        break\n",
    "    print(val)\n"
   ]
  },
  {
   "cell_type": "code",
   "execution_count": 21,
   "metadata": {},
   "outputs": [
    {
     "name": "stdout",
     "output_type": "stream",
     "text": [
      "Briyani\n",
      "Vada\n",
      "Poori\n",
      "Egg\n",
      "Juice\n"
     ]
    }
   ],
   "source": [
    "#countinue statement \n",
    "food=[\"Briyani\",\"Vada\",\"Poori\",\"Spinach\",\"Egg\",\"Juice\"]\n",
    "for x in food:\n",
    "    if(x==\"Spinach\"):\n",
    "        continue\n",
    "    print(x)\n"
   ]
  },
  {
   "cell_type": "code",
   "execution_count": 24,
   "metadata": {},
   "outputs": [
    {
     "name": "stdout",
     "output_type": "stream",
     "text": [
      "1800  is leap year\n",
      "1804  is leap year\n",
      "1808  is leap year\n",
      "1812  is leap year\n",
      "1816  is leap year\n",
      "1820  is leap year\n",
      "1824  is leap year\n",
      "1828  is leap year\n",
      "1832  is leap year\n",
      "1836  is leap year\n",
      "1840  is leap year\n",
      "1844  is leap year\n",
      "1848  is leap year\n",
      "1852  is leap year\n",
      "1856  is leap year\n",
      "1860  is leap year\n",
      "1864  is leap year\n",
      "1868  is leap year\n",
      "1872  is leap year\n",
      "1876  is leap year\n",
      "1880  is leap year\n",
      "1884  is leap year\n",
      "1888  is leap year\n",
      "1892  is leap year\n",
      "1896  is leap year\n",
      "1900  is leap year\n",
      "1904  is leap year\n",
      "1908  is leap year\n",
      "1912  is leap year\n",
      "1916  is leap year\n",
      "1920  is leap year\n",
      "1924  is leap year\n",
      "1928  is leap year\n",
      "1932  is leap year\n",
      "1936  is leap year\n",
      "1940  is leap year\n",
      "1944  is leap year\n",
      "1948  is leap year\n",
      "1952  is leap year\n",
      "1956  is leap year\n",
      "1960  is leap year\n",
      "1964  is leap year\n",
      "1968  is leap year\n",
      "1972  is leap year\n",
      "1976  is leap year\n",
      "1980  is leap year\n",
      "1984  is leap year\n",
      "1988  is leap year\n",
      "1992  is leap year\n",
      "1996  is leap year\n",
      "2000  is leap year\n",
      "2004  is leap year\n",
      "2008  is leap year\n",
      "2012  is leap year\n",
      "2016  is leap year\n",
      "2020  is leap year\n"
     ]
    }
   ],
   "source": [
    "# all leap years from 1800 - 2021\n",
    "for i in range(1800,2021):\n",
    "    if i%4==0:\n",
    "        print(i,' is leap year')"
   ]
  },
  {
   "cell_type": "markdown",
   "metadata": {},
   "source": [
    "# User defined function "
   ]
  },
  {
   "cell_type": "code",
   "execution_count": 25,
   "metadata": {},
   "outputs": [],
   "source": [
    "#creating arethematic operators using user defined functions\n",
    "def oper(a,b):\n",
    "    sum1 = a+b \n",
    "    mul = a*b\n",
    "    sub = a - b\n",
    "    return (sum1,mul,sub)"
   ]
  },
  {
   "cell_type": "code",
   "execution_count": 26,
   "metadata": {},
   "outputs": [
    {
     "data": {
      "text/plain": [
       "(9, 18, 3)"
      ]
     },
     "execution_count": 26,
     "metadata": {},
     "output_type": "execute_result"
    }
   ],
   "source": [
    "oper(6,3)"
   ]
  },
  {
   "cell_type": "code",
   "execution_count": 27,
   "metadata": {},
   "outputs": [],
   "source": [
    "#Welcome With input \n",
    "\n",
    "def welcom():\n",
    "    name = input(\" Enter your name :\")\n",
    "    if name:\n",
    "        print(f'Welcome to bepec {name}')\n",
    "    else:\n",
    "        print('name not provided')\n",
    "\n",
    "              "
   ]
  },
  {
   "cell_type": "code",
   "execution_count": 28,
   "metadata": {},
   "outputs": [
    {
     "name": "stdout",
     "output_type": "stream",
     "text": [
      " Enter your name :ali\n",
      "Welcome to bepec ali\n"
     ]
    }
   ],
   "source": [
    "welcom()"
   ]
  },
  {
   "cell_type": "markdown",
   "metadata": {},
   "source": [
    "# Lambda function "
   ]
  },
  {
   "cell_type": "code",
   "execution_count": 29,
   "metadata": {},
   "outputs": [
    {
     "data": {
      "text/plain": [
       "9"
      ]
     },
     "execution_count": 29,
     "metadata": {},
     "output_type": "execute_result"
    }
   ],
   "source": [
    "# sum using lambda function \n",
    "sum1 = lambda a,b: a+b\n",
    "\n",
    "sum1(6,3)"
   ]
  },
  {
   "cell_type": "code",
   "execution_count": 33,
   "metadata": {},
   "outputs": [
    {
     "name": "stdout",
     "output_type": "stream",
     "text": [
      "[0, 1, 2, 3, 4, 5, 6, 7, 8, 9]\n",
      "[1, 3, 5, 7, 9]\n"
     ]
    }
   ],
   "source": [
    "# create a list using loop\n",
    "# Create a list of first 10 number using list comprehension\n",
    "\n",
    "list1 = []\n",
    "for i in range(10):\n",
    "    list1.append(i)\n",
    "print(list1)\n",
    "\n",
    "list2 = [i for i in range(10) if i%2!=0]\n",
    "print(list2)\n"
   ]
  },
  {
   "cell_type": "code",
   "execution_count": 37,
   "metadata": {},
   "outputs": [
    {
     "data": {
      "text/plain": [
       "[0, 1, 2, 3, 4, 5, 6, 7, 8, 9]"
      ]
     },
     "execution_count": 37,
     "metadata": {},
     "output_type": "execute_result"
    }
   ],
   "source": [
    "list1"
   ]
  },
  {
   "cell_type": "code",
   "execution_count": 39,
   "metadata": {},
   "outputs": [
    {
     "name": "stdout",
     "output_type": "stream",
     "text": [
      "[0, 2, 4, 6, 8]\n"
     ]
    }
   ],
   "source": [
    "# select all the even number form the list with filter()\n",
    "\n",
    "fil = list(filter(lambda x : x%2==0, list1))\n",
    "print(fil)"
   ]
  },
  {
   "cell_type": "code",
   "execution_count": 41,
   "metadata": {},
   "outputs": [
    {
     "name": "stdout",
     "output_type": "stream",
     "text": [
      "[0, 1, 4, 9, 16, 25, 36, 49, 64, 81]\n"
     ]
    }
   ],
   "source": [
    "# get  the squiares of numbers form the list with map()\n",
    "m = list(map(lambda x: x**2, list1))\n",
    "print(m)"
   ]
  },
  {
   "cell_type": "code",
   "execution_count": 42,
   "metadata": {},
   "outputs": [
    {
     "name": "stdout",
     "output_type": "stream",
     "text": [
      "45\n"
     ]
    }
   ],
   "source": [
    "#get the sum of numbers of the list using reduce()\n",
    "from functools import reduce\n",
    "\n",
    "red = reduce(lambda x,y: x+y, list1)\n",
    "print(red)"
   ]
  },
  {
   "cell_type": "code",
   "execution_count": null,
   "metadata": {},
   "outputs": [],
   "source": []
  }
 ],
 "metadata": {
  "kernelspec": {
   "display_name": "Python 3",
   "language": "python",
   "name": "python3"
  },
  "language_info": {
   "codemirror_mode": {
    "name": "ipython",
    "version": 3
   },
   "file_extension": ".py",
   "mimetype": "text/x-python",
   "name": "python",
   "nbconvert_exporter": "python",
   "pygments_lexer": "ipython3",
   "version": "3.8.5"
  },
  "toc": {
   "base_numbering": 1,
   "nav_menu": {},
   "number_sections": true,
   "sideBar": true,
   "skip_h1_title": false,
   "title_cell": "Table of Contents",
   "title_sidebar": "Contents",
   "toc_cell": false,
   "toc_position": {},
   "toc_section_display": true,
   "toc_window_display": false
  }
 },
 "nbformat": 4,
 "nbformat_minor": 2
}
