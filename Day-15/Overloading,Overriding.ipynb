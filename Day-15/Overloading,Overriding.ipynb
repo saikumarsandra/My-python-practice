{
 "cells": [
  {
   "cell_type": "markdown",
   "metadata": {},
   "source": [
    "# Super()"
   ]
  },
  {
   "cell_type": "code",
   "execution_count": 11,
   "metadata": {},
   "outputs": [],
   "source": [
    "class company:\n",
    "    def __init__(self, company_name):\n",
    "        self.company_name = company_name\n",
    "\n",
    "    def display(self):\n",
    "        print(f\"we have 10 departments in {self.company_name} company\")\n",
    "        \n",
    "class emp(company):\n",
    "    def __init__(self, company_name, emp_name):\n",
    "        super().__init__(company_name)\n",
    "        self.emp_name = emp_name\n",
    "        \n",
    "    def display(self):\n",
    "        print(\"Company name: \", self.company_name)\n",
    "        print(\"Employee name :\", self.emp_name)\n",
    "        super().display() # we have to use super when we have same method name in both parent and child class\n",
    "#         self.display() # we can use self if there is no naming conflict\n",
    "    "
   ]
  },
  {
   "cell_type": "code",
   "execution_count": 12,
   "metadata": {},
   "outputs": [
    {
     "name": "stdout",
     "output_type": "stream",
     "text": [
      "Company name:  XYZ\n",
      "Employee name : nihal\n",
      "we have 10 departments in XYZ company\n"
     ]
    }
   ],
   "source": [
    "ob = emp(\"XYZ\", \"nihal\")\n",
    "ob.display()"
   ]
  },
  {
   "cell_type": "markdown",
   "metadata": {},
   "source": [
    "# Polymorphism"
   ]
  },
  {
   "cell_type": "markdown",
   "metadata": {},
   "source": [
    "## operator overloading"
   ]
  },
  {
   "cell_type": "code",
   "execution_count": 73,
   "metadata": {},
   "outputs": [
    {
     "name": "stdout",
     "output_type": "stream",
     "text": [
      "3\n",
      "helloworld\n",
      "(1, 2, 3, 4, 5, 6)\n"
     ]
    }
   ],
   "source": [
    "#operator overloading\n",
    "a = 1\n",
    "b = 2\n",
    "print(a+b)\n",
    "\n",
    "c = \"hello\"\n",
    "d = \"world\"\n",
    "print(c+d)\n",
    "\n",
    "e = (1,2,3)\n",
    "f = (4,5,6)\n",
    "print(e+f)"
   ]
  },
  {
   "cell_type": "code",
   "execution_count": null,
   "metadata": {},
   "outputs": [],
   "source": [
    "a+b "
   ]
  },
  {
   "cell_type": "code",
   "execution_count": 98,
   "metadata": {},
   "outputs": [
    {
     "name": "stdout",
     "output_type": "stream",
     "text": [
      "3\n",
      "helloworld\n",
      "(1, 2, 3, 4, 5, 6)\n"
     ]
    }
   ],
   "source": [
    "print(int.__add__(a,b))\n",
    "print(str.__add__(c,d))\n",
    "print(tuple.__add__(e,f))"
   ]
  },
  {
   "cell_type": "code",
   "execution_count": 75,
   "metadata": {},
   "outputs": [
    {
     "ename": "TypeError",
     "evalue": "unsupported operand type(s) for +: 'exp' and 'exp'",
     "output_type": "error",
     "traceback": [
      "\u001b[1;31m---------------------------------------------------------------------------\u001b[0m",
      "\u001b[1;31mTypeError\u001b[0m                                 Traceback (most recent call last)",
      "\u001b[1;32m<ipython-input-75-f943695cea17>\u001b[0m in \u001b[0;36m<module>\u001b[1;34m\u001b[0m\n\u001b[0;32m      6\u001b[0m \u001b[0me2\u001b[0m \u001b[1;33m=\u001b[0m \u001b[0mexp\u001b[0m\u001b[1;33m(\u001b[0m\u001b[1;36m2000\u001b[0m\u001b[1;33m)\u001b[0m\u001b[1;33m\u001b[0m\u001b[1;33m\u001b[0m\u001b[0m\n\u001b[0;32m      7\u001b[0m \u001b[1;33m\u001b[0m\u001b[0m\n\u001b[1;32m----> 8\u001b[1;33m \u001b[0mprint\u001b[0m\u001b[1;33m(\u001b[0m\u001b[0me1\u001b[0m\u001b[1;33m+\u001b[0m\u001b[0me2\u001b[0m\u001b[1;33m)\u001b[0m\u001b[1;33m\u001b[0m\u001b[1;33m\u001b[0m\u001b[0m\n\u001b[0m",
      "\u001b[1;31mTypeError\u001b[0m: unsupported operand type(s) for +: 'exp' and 'exp'"
     ]
    }
   ],
   "source": [
    "class exp:\n",
    "    def __init__(self, exp):\n",
    "        self.exp = exp\n",
    "    \n",
    "e1 = exp(1000)\n",
    "e2 = exp(2000)\n",
    "\n",
    "print(e1 + e2)"
   ]
  },
  {
   "cell_type": "code",
   "execution_count": 76,
   "metadata": {},
   "outputs": [
    {
     "name": "stdout",
     "output_type": "stream",
     "text": [
      "3000\n"
     ]
    }
   ],
   "source": [
    "class exp:\n",
    "    def __init__(self, exp):\n",
    "        self.exp = exp\n",
    "    \n",
    "    def __add__(self, other):\n",
    "        return (self.exp + other.exp)\n",
    "    \n",
    "e1 = exp(1000)\n",
    "e2 = exp(2000)\n",
    "\n",
    "print(e1 + e2)#e1.__add__(e2)"
   ]
  },
  {
   "cell_type": "code",
   "execution_count": null,
   "metadata": {},
   "outputs": [],
   "source": [
    "class expenses:\n",
    "    def __init__(self, value):r\n",
    "        self.value = value\n",
    "\n",
    "    def __add__(self, other):\n",
    "        return expenses(self.value + other.value)\n",
    "\n",
    "    def __str__(self):\n",
    "        return f\"{self.value}\"\n",
    "a1 = expenses(10)\n",
    "a2 = expenses(20)\n",
    "a3 =expenses(30)\n",
    "print(a1+a2+a3)\n"
   ]
  },
  {
   "cell_type": "code",
   "execution_count": null,
   "metadata": {},
   "outputs": [],
   "source": [
    "+ __add__(self, other)\n",
    "- __sub__(self, other)\n",
    "* __mul__(self, other)\n",
    "/  __div__(self, other)\n",
    "// __floordiv__(self, other)\n",
    "%  __mod__(self, other)\n",
    "** __pow__(self, other)\n",
    "+= __iadd__(self, other)\n",
    "-=__isub__(self, other)\n",
    "*=__imul__(self, other)\n",
    "/=__idiv__(self, other)\n",
    "//=__ifloordic__(self, other)\n",
    "**=__ipow__(self, other)\n",
    "<__lt____(self, other)\n",
    "<=__le__(self, other)\n",
    ">__gt__(self, other)"
   ]
  },
  {
   "cell_type": "markdown",
   "metadata": {},
   "source": [
    "## Method overloading"
   ]
  },
  {
   "cell_type": "code",
   "execution_count": null,
   "metadata": {},
   "outputs": [],
   "source": [
    "# If 2 methods having same name but different type of arguments then those methods are said to\n",
    "# be overloaded methods.But in Python Method overloading is not possible.\n",
    "# If we are trying to declare multiple methods with same name and different number of arguments\n",
    "# then Python will always consider only last method."
   ]
  },
  {
   "cell_type": "code",
   "execution_count": 15,
   "metadata": {},
   "outputs": [],
   "source": [
    "class Test:\n",
    "    def method(self):\n",
    "        print('first method')\n",
    "    \n",
    "    def method(self,a):\n",
    "        print('second method')\n",
    "    \n",
    "    def method(self,a,b):\n",
    "        print('third method')\n",
    "        \n",
    "\n"
   ]
  },
  {
   "cell_type": "code",
   "execution_count": 18,
   "metadata": {},
   "outputs": [
    {
     "name": "stdout",
     "output_type": "stream",
     "text": [
      "third method\n"
     ]
    }
   ],
   "source": [
    "t=Test()\n",
    "t.method(10,20)\n",
    "\n",
    "\n",
    "\n",
    "\n",
    "#t.method(10)\n",
    "# t.method(10,20) "
   ]
  },
  {
   "cell_type": "code",
   "execution_count": 10,
   "metadata": {},
   "outputs": [
    {
     "name": "stdout",
     "output_type": "stream",
     "text": [
      "The Sum of 2 Numbers: 30\n",
      "The Sum of 3 Numbers: 60.0\n"
     ]
    }
   ],
   "source": [
    "# Most of the times, if method with variable number of arguments required then we can handle\n",
    "# with default arguments or with variable number of argument methods.\n",
    "\n",
    "class Test:\n",
    "    def sum(self,a=None,b=None,c=None):\n",
    "        if a!=None and b!= None and c!= None:\n",
    "            print('The Sum of 3 Numbers:',a+b+c)\n",
    "        elif a!=None and b!= None:\n",
    "            print('The Sum of 2 Numbers:',a+b)\n",
    "        else:\n",
    "            print('Please provide 2 or 3 arguments')\n",
    "\n",
    "t=Test() \n",
    "t.sum(10,20)\n",
    "t.sum(10,20.,30)"
   ]
  },
  {
   "cell_type": "code",
   "execution_count": 20,
   "metadata": {},
   "outputs": [],
   "source": [
    "class test:\n",
    "    \n",
    "    def add(self,*num):\n",
    "        total = 0\n",
    "        for i in num:\n",
    "            total = total+i\n",
    "        print(\"sum\", total)"
   ]
  },
  {
   "cell_type": "code",
   "execution_count": 23,
   "metadata": {},
   "outputs": [
    {
     "name": "stdout",
     "output_type": "stream",
     "text": [
      "sum 30\n",
      "sum 60\n",
      "sum 210\n"
     ]
    }
   ],
   "source": [
    "t = test()\n",
    "t.add(10,20)\n",
    "t.add(10,20,30)\n",
    "t.add(10,20,30,40,50, 60,)"
   ]
  },
  {
   "cell_type": "markdown",
   "metadata": {},
   "source": [
    "## Constructor overloading"
   ]
  },
  {
   "cell_type": "code",
   "execution_count": 24,
   "metadata": {},
   "outputs": [
    {
     "ename": "TypeError",
     "evalue": "__init__() missing 2 required positional arguments: 'a' and 'b'",
     "output_type": "error",
     "traceback": [
      "\u001b[1;31m---------------------------------------------------------------------------\u001b[0m",
      "\u001b[1;31mTypeError\u001b[0m                                 Traceback (most recent call last)",
      "\u001b[1;32m<ipython-input-24-d1a3e5a49eb8>\u001b[0m in \u001b[0;36m<module>\u001b[1;34m\u001b[0m\n\u001b[0;32m     15\u001b[0m         \u001b[0mprint\u001b[0m\u001b[1;33m(\u001b[0m\u001b[1;34m'Two-Argumenta constructor'\u001b[0m\u001b[1;33m)\u001b[0m\u001b[1;33m\u001b[0m\u001b[1;33m\u001b[0m\u001b[0m\n\u001b[0;32m     16\u001b[0m \u001b[1;33m\u001b[0m\u001b[0m\n\u001b[1;32m---> 17\u001b[1;33m \u001b[0mt1\u001b[0m\u001b[1;33m=\u001b[0m\u001b[0mTest\u001b[0m\u001b[1;33m(\u001b[0m\u001b[1;33m)\u001b[0m\u001b[1;33m\u001b[0m\u001b[1;33m\u001b[0m\u001b[0m\n\u001b[0m\u001b[0;32m     18\u001b[0m \u001b[1;31m# t1=Test(10)\u001b[0m\u001b[1;33m\u001b[0m\u001b[1;33m\u001b[0m\u001b[1;33m\u001b[0m\u001b[0m\n\u001b[0;32m     19\u001b[0m \u001b[1;31m# t1=Test(10,20)\u001b[0m\u001b[1;33m\u001b[0m\u001b[1;33m\u001b[0m\u001b[1;33m\u001b[0m\u001b[0m\n",
      "\u001b[1;31mTypeError\u001b[0m: __init__() missing 2 required positional arguments: 'a' and 'b'"
     ]
    }
   ],
   "source": [
    "# Constructor overloading is not possible in Python.\n",
    "# If we define multiple constructors then the last constructor will be considered.\n",
    "# Note: Based on our requirement we can declare constructor with default arguments and variable\n",
    "# number of arguments.\n",
    "\n",
    "\n",
    "class Test:\n",
    "    def __init__(self):\n",
    "        print('No-Arguments Constructor')\n",
    "\n",
    "    def __init__(self,a):\n",
    "        print('One-Argument constructor')\n",
    "\n",
    "    def __init__(self,a,b):\n",
    "        print('Two-Argumenta constructor') \n",
    "        \n",
    "t1=Test()\n",
    "# t1=Test(10)\n",
    "# t1=Test(10,20) \n",
    "\n",
    "\n",
    "#  variable number of arguments.\n",
    "# class Test:\n",
    "#     def __init__(self, *a):\n",
    "#         print('No-Arguments Constructor')"
   ]
  },
  {
   "cell_type": "markdown",
   "metadata": {},
   "source": [
    "## Method overriding"
   ]
  },
  {
   "cell_type": "code",
   "execution_count": 28,
   "metadata": {},
   "outputs": [
    {
     "name": "stdout",
     "output_type": "stream",
     "text": [
      "Iam parent i have a house\n",
      "Iam child i have a house\n"
     ]
    }
   ],
   "source": [
    "# What ever members available in the parent class are by default available to the child class through\n",
    "# inheritance. If the child class not satisfied with parent class implementation then child class is\n",
    "# allowed to redefine that method in the child class based on its requirement. This concept is called\n",
    "# overriding. Overriding concept applicable for both methods and constructors.\n",
    "\n",
    "class P:\n",
    "    def house(self):\n",
    "        print('Iam parent i have a house')\n",
    "        \n",
    "class C(P):\n",
    "    \n",
    "    def house(self):\n",
    "        super().house() # if we want we can access by super()\n",
    "        print('Iam child i have a house') \n",
    "        \n",
    "ob = C()\n",
    "ob.house()"
   ]
  },
  {
   "cell_type": "markdown",
   "metadata": {},
   "source": [
    "## constructor overriding"
   ]
  },
  {
   "cell_type": "code",
   "execution_count": 24,
   "metadata": {},
   "outputs": [
    {
     "name": "stdout",
     "output_type": "stream",
     "text": [
      "Parent Constructor\n",
      "Child Constructor\n"
     ]
    }
   ],
   "source": [
    "# if child class does not contain constructor then parent class constructor will\n",
    "# be executed from child class constuctor we can call parent class constructor by using super() method.\n",
    "\n",
    "class P:\n",
    "    def __init__(self):\n",
    "        print('Parent Constructor')\n",
    "        \n",
    "class C(P):\n",
    "    \n",
    "    def __init__(self):\n",
    "        super().__init__() # we can use super and access parent constructor\n",
    "        print('Child Constructor')\n",
    "c=C() "
   ]
  },
  {
   "cell_type": "markdown",
   "metadata": {},
   "source": [
    "# Small example on overriding"
   ]
  },
  {
   "cell_type": "code",
   "execution_count": 13,
   "metadata": {},
   "outputs": [],
   "source": [
    "class car:\n",
    "    def __init__(self, name,model,wheels):\n",
    "        self.name = name\n",
    "        self.model = model\n",
    "        self.wheels = wheels\n",
    "        \n",
    "    def display(self):\n",
    "        print(\"Brand is \", self.name)\n",
    "        print(\"model is \", self.model)\n",
    "        print(\"no of wheels \", self.wheels)\n",
    "\n",
    "\n",
    "class purchase(car):\n",
    "    def __init__(self, name, model, wheels, price ,payment_type ):\n",
    "        super().__init__(name,model,wheels)\n",
    "        self.price = price\n",
    "        self.payment_type = payment_type\n",
    "        \n",
    "    def display(self):\n",
    "        super().display()\n",
    "        print(\"price\", self.price)\n",
    "        print(\"payment_type\", self.payment_type)"
   ]
  },
  {
   "cell_type": "code",
   "execution_count": 14,
   "metadata": {},
   "outputs": [
    {
     "name": "stdout",
     "output_type": "stream",
     "text": [
      "Brand is  bmw\n",
      "model is  x1\n",
      "no of wheels  4\n",
      "price 37L\n",
      "payment_type cheque\n"
     ]
    }
   ],
   "source": [
    "ob = purchase(\"bmw\", \"x1\", 4, \"37L\", \"cheque\")\n",
    "ob.display()"
   ]
  },
  {
   "cell_type": "markdown",
   "metadata": {},
   "source": [
    "# small project"
   ]
  },
  {
   "cell_type": "code",
   "execution_count": 25,
   "metadata": {},
   "outputs": [],
   "source": [
    "class Mobile:\n",
    "    def __init__(self, name,ram, color):\n",
    "        self.name = name\n",
    "        self.ram = ram\n",
    "        self.color = color\n",
    "\n",
    "    def info(self):\n",
    "        print(\"Mobile name :\", self.name)\n",
    "        print(\"Ram :\", self.ram)\n",
    "        print(\"color of mobile:\", self.color)\n"
   ]
  },
  {
   "cell_type": "code",
   "execution_count": 26,
   "metadata": {},
   "outputs": [
    {
     "name": "stdout",
     "output_type": "stream",
     "text": [
      "Enter the mobile you want to purchase: samasung\n",
      "Enter prefered ram: 8\n",
      "Enter preferd colorred\n",
      "Thanks for purchasing\n",
      "Want to purchase another mobile [yes/no]yes\n",
      "Enter the mobile you want to purchase: oppo\n",
      "Enter prefered ram: 4\n",
      "Enter preferd colorred\n",
      "Thanks for purchasing\n",
      "Want to purchase another mobile [yes/no]yes\n",
      "Enter the mobile you want to purchase: vivo\n",
      "Enter prefered ram: 8\n",
      "Enter preferd colorwhite\n",
      "Thanks for purchasing\n",
      "Want to purchase another mobile [yes/no]no\n",
      "Mobile name : samasung\n",
      "Ram : 8\n",
      "color of mobile: red\n",
      "\n",
      "Mobile name : oppo\n",
      "Ram : 4\n",
      "color of mobile: red\n",
      "\n",
      "Mobile name : vivo\n",
      "Ram : 8\n",
      "color of mobile: white\n",
      "\n"
     ]
    }
   ],
   "source": [
    "list_of_mobile_sold = []\n",
    "while True:\n",
    "    name = input(\"Enter the mobile you want to purchase: \")\n",
    "    ram = input(\"Enter prefered ram: \")\n",
    "    color = input(\"Enter preferd color\")\n",
    "    m = Mobile(name,ram,color)\n",
    "    list_of_mobile_sold.append(m)\n",
    "    print(\"Thanks for purchasing\")\n",
    "    opt = input(\"Want to purchase another mobile [yes/no]\")\n",
    "    if opt.lower() =='no':\n",
    "        break \n",
    "for mobile in list_of_mobile_sold:\n",
    "    mobile.info()\n",
    "    print()\n"
   ]
  },
  {
   "cell_type": "code",
   "execution_count": null,
   "metadata": {},
   "outputs": [],
   "source": []
  }
 ],
 "metadata": {
  "kernelspec": {
   "display_name": "Python 3",
   "language": "python",
   "name": "python3"
  },
  "language_info": {
   "codemirror_mode": {
    "name": "ipython",
    "version": 3
   },
   "file_extension": ".py",
   "mimetype": "text/x-python",
   "name": "python",
   "nbconvert_exporter": "python",
   "pygments_lexer": "ipython3",
   "version": "3.7.3"
  },
  "toc": {
   "base_numbering": 1,
   "nav_menu": {},
   "number_sections": true,
   "sideBar": true,
   "skip_h1_title": false,
   "title_cell": "Table of Contents",
   "title_sidebar": "Contents",
   "toc_cell": false,
   "toc_position": {},
   "toc_section_display": true,
   "toc_window_display": true
  }
 },
 "nbformat": 4,
 "nbformat_minor": 2
}
