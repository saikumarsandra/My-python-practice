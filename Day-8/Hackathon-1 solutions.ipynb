{
 "cells": [
  {
   "cell_type": "markdown",
   "metadata": {},
   "source": [
    "# if Statements"
   ]
  },
  {
   "cell_type": "code",
   "execution_count": 16,
   "metadata": {},
   "outputs": [
    {
     "name": "stdout",
     "output_type": "stream",
     "text": [
      "enter the number to increment \t:2\n",
      "n value incremented by 1:\t 3\n"
     ]
    }
   ],
   "source": [
    "#increment the value by 1\n",
    "n=eval(input(\"enter the number to increment \\t:\"))\n",
    "if ((n>=0)&(n<=10)):\n",
    "            n+=1\n",
    "            print(\"n value incremented by 1:\\t\",n)\n",
    "else:\n",
    "    print(\"enter the number in between 0 and 10\")"
   ]
  },
  {
   "cell_type": "code",
   "execution_count": 17,
   "metadata": {},
   "outputs": [
    {
     "name": "stdout",
     "output_type": "stream",
     "text": [
      "enter the value to check the persion is eligible to vote?\t20\n",
      "the person is eligible for vote\n"
     ]
    }
   ],
   "source": [
    "#Determine weather a person is eligible to vote by using  input \n",
    "n=eval(input(\"enter the value to check the persion is eligible to vote?\\t\"))\n",
    "if (n>=18):\n",
    "    print(\"the person is eligible for vote\")\n",
    "else:\n",
    "    print(\"u or not allowed to vote\")"
   ]
  },
  {
   "cell_type": "markdown",
   "metadata": {},
   "source": [
    "# if - else Statements"
   ]
  },
  {
   "cell_type": "code",
   "execution_count": 10,
   "metadata": {},
   "outputs": [],
   "source": [
    "#Determine weather a person is eligible to vote by using input\n",
    "n=eval(input(\"enter the value to check the persion is eligible to vote?\\t\"))\n",
    "if (n>=18):\n",
    "    print(\"the person is eligible for vote\")\n",
    "else:\n",
    "    print(\"u or not allowed to vote\")"
   ]
  },
  {
   "cell_type": "code",
   "execution_count": 22,
   "metadata": {},
   "outputs": [
    {
     "name": "stdout",
     "output_type": "stream",
     "text": [
      "enter the number to check the number is even or odd:\t0\n",
      "0 is even number\n"
     ]
    }
   ],
   "source": [
    "#find the number is even or odd by using input \n",
    "n=eval(input(\"enter the number to check the number is even or odd:\\t\"))\n",
    "if (n%2==0):\n",
    "    print(n,\"is even number\")\n",
    "else:\n",
    "    print(n,\"is odd number\")"
   ]
  },
  {
   "cell_type": "code",
   "execution_count": 36,
   "metadata": {},
   "outputs": [
    {
     "name": "stdout",
     "output_type": "stream",
     "text": [
      "entered salary is :\t2\n",
      "entered gender is :\tm\n",
      "bonus salary is   :\t 0.2\n",
      "total salary is   :\t 2.2\n"
     ]
    }
   ],
   "source": [
    "# A company decides to give bonus to all its employees on New year. A 10% bonus on salary for all the male workers and\n",
    "# 25% to females. build a programme to enter Salary and Gender(m or F) of employee. \n",
    "salary=eval(input(\"entered salary is :\\t\"))\n",
    "gender=input(\"entered gender is :\\t\")\n",
    "if gender=='m':\n",
    "    bonus=salary*0.10\n",
    "    print(\"bonus salary is   :\\t\",bonus)\n",
    "else :\n",
    "    bonus=salary*0.25\n",
    "    print(\"bonus salary is :\\t\",bonus)\n",
    "total_sal=salary+bonus\n",
    "print(\"total salary is   :\\t\",total_sal)"
   ]
  },
  {
   "cell_type": "markdown",
   "metadata": {},
   "source": [
    "# if -elif- else Statement"
   ]
  },
  {
   "cell_type": "code",
   "execution_count": 45,
   "metadata": {
    "scrolled": true
   },
   "outputs": [
    {
     "name": "stdout",
     "output_type": "stream",
     "text": [
      "enter the number-1\n",
      "-1 is negative\n"
     ]
    }
   ],
   "source": [
    "# check weather the number is positive or negitive or equal to zero using input\n",
    "num=eval(input(\"enter the number\"))\n",
    "if (num>0):\n",
    "    print(num,\"is positive\")\n",
    "elif(num<0):\n",
    "    print(num,\"is negative\")\n",
    "else:\n",
    "    print(num,\"is equal to zero\")"
   ]
  },
  {
   "cell_type": "code",
   "execution_count": 55,
   "metadata": {},
   "outputs": [
    {
     "name": "stdout",
     "output_type": "stream",
     "text": [
      "enetr the character:\tg\n",
      "not vowel\n"
     ]
    }
   ],
   "source": [
    "# Test Weather the charcter is vowel or not vowel using input\n",
    "list=['a','e','i','o','u']\n",
    "char=input(\"enetr the character:\\t\")\n",
    "print(\"is vowel\") if (char in list) else print(\"not vowel\")    "
   ]
  },
  {
   "cell_type": "code",
   "execution_count": null,
   "metadata": {},
   "outputs": [],
   "source": [
    "#Given an integer input perform the following conditional actions:\n",
    "\n",
    "#If n is odd, print odd\n",
    "#If n is even and in the inclusive range of 2 to 5, print small\n",
    "#If n is even and in the inclusive range of 6 to 20, print medium\n",
    "#If n is even and greater than 20, print big\n",
    "n=eval(input(\"enter the number\"))\n",
    "if n%2!=0:\n",
    "    print(n,\"is odd\")\n",
    "elif n>=2 and n<=5 and n%2==0:\n",
    "     print(n,\"number is even and small\")\n",
    "elif n>=6 and n<=20 and n%2==0:\n",
    "     print(n,\"number is even and medium\")\n",
    "elif n>=20 and n%2==0:\n",
    "     print(n,\"number is even and large\")\n",
    "   \n"
   ]
  },
  {
   "cell_type": "markdown",
   "metadata": {},
   "source": [
    "# while loop"
   ]
  },
  {
   "cell_type": "code",
   "execution_count": 76,
   "metadata": {},
   "outputs": [
    {
     "name": "stdout",
     "output_type": "stream",
     "text": [
      "sum is:\t 66\n",
      "sum is:\t 5.5\n"
     ]
    }
   ],
   "source": [
    "# find average and sum for first 10 numbers \n",
    "i=1\n",
    "sum=0\n",
    "while i<=11:\n",
    "    sum+=i\n",
    "    i+=1\n",
    "    avg=sum/i\n",
    "print(\"sum is:\\t\",sum)\n",
    "print(\"sum is:\\t\",avg)"
   ]
  },
  {
   "cell_type": "code",
   "execution_count": 66,
   "metadata": {},
   "outputs": [
    {
     "name": "stdout",
     "output_type": "stream",
     "text": [
      "1\n",
      "2\n",
      "3\n",
      "4\n",
      "5\n",
      "6\n",
      "7\n",
      "8\n",
      "9\n",
      "10\n"
     ]
    }
   ],
   "source": [
    "# print first 10 numbers \n",
    "i=1\n",
    "while i<=10:\n",
    "    print(i)\n",
    "    i+=1"
   ]
  },
  {
   "cell_type": "code",
   "execution_count": 69,
   "metadata": {},
   "outputs": [
    {
     "name": "stdout",
     "output_type": "stream",
     "text": [
      "- - - - - - - - - - - - - - - - - - - - - - - - - - - - - - - - - - - - - - - - - - - - - - - - - - "
     ]
    }
   ],
   "source": [
    "#Draw a line using while loop \n",
    "i=1\n",
    "while i<=50:\n",
    "    print(\"-\",end=\" \")\n",
    "    i+=1"
   ]
  },
  {
   "cell_type": "code",
   "execution_count": 85,
   "metadata": {},
   "outputs": [
    {
     "name": "stdout",
     "output_type": "stream",
     "text": [
      "enter the m value:\t2\n",
      "enter the n value:\t4\n",
      "sum of m to n is : 9\n"
     ]
    }
   ],
   "source": [
    "#calculate the sum of m to n  numbers using input\n",
    "m =int(input(\"enter the m value:\\t\"))\n",
    "n =int(input(\"enter the n value:\\t\"))\n",
    "sum=0\n",
    "while m <= n:\n",
    "    sum += m\n",
    "    m += 1\n",
    "print(\"sum of m to n is :\",sum)\n",
    "    "
   ]
  },
  {
   "cell_type": "code",
   "execution_count": 90,
   "metadata": {},
   "outputs": [
    {
     "name": "stdout",
     "output_type": "stream",
     "text": [
      "10\n",
      "9\n",
      "8\n",
      "7\n",
      "6\n",
      "5\n",
      "4\n",
      "3\n",
      "2\n",
      "1\n"
     ]
    }
   ],
   "source": [
    "# countdown 10 to 0 using input\n",
    "i=10\n",
    "while i>0:\n",
    "    print(i)\n",
    "    i-=1"
   ]
  },
  {
   "cell_type": "markdown",
   "metadata": {},
   "source": [
    "# for loop "
   ]
  },
  {
   "cell_type": "code",
   "execution_count": 99,
   "metadata": {},
   "outputs": [
    {
     "name": "stdout",
     "output_type": "stream",
     "text": [
      "enter the number to get table:\t2\n",
      "2 x 1 = 2\n",
      "2 x 2 = 4\n",
      "2 x 3 = 6\n",
      "2 x 4 = 8\n",
      "2 x 5 = 10\n",
      "2 x 6 = 12\n",
      "2 x 7 = 14\n",
      "2 x 8 = 16\n",
      "2 x 9 = 18\n",
      "2 x 10 = 20\n"
     ]
    }
   ],
   "source": [
    "#Multiplication table using input\n",
    "n=int(input(\"enter the number to get table:\\t\"))\n",
    "for i in range(1, 11):\n",
    "    print(n,'x', i,'=',n*i)"
   ]
  },
  {
   "cell_type": "code",
   "execution_count": 102,
   "metadata": {},
   "outputs": [
    {
     "name": "stdout",
     "output_type": "stream",
     "text": [
      "1 is odd\n",
      "2 is even\n",
      "3 is odd\n",
      "4 is even\n",
      "5 is odd\n",
      "6 is even\n",
      "7 is odd\n",
      "8 is even\n",
      "9 is odd\n",
      "10 is even\n"
     ]
    }
   ],
   "source": [
    "#print even and odd for range of number\n",
    "\n",
    "for n in range(1,11):\n",
    "    if(n %2 ==0):    \n",
    "        print(n,\"is even\")\n",
    "    else:    \n",
    "        print(n,\"is odd\")\n",
    "    "
   ]
  },
  {
   "cell_type": "code",
   "execution_count": 103,
   "metadata": {},
   "outputs": [
    {
     "name": "stdout",
     "output_type": "stream",
     "text": [
      "1 is odd\n",
      "2 is even\n"
     ]
    }
   ],
   "source": [
    "# break statement\n",
    "for n in range(1,11):\n",
    "    if(n %2 ==0):    \n",
    "        print(n,\"is even\")\n",
    "        break\n",
    "    else:    \n",
    "        print(n,\"is odd\")"
   ]
  },
  {
   "cell_type": "code",
   "execution_count": 116,
   "metadata": {},
   "outputs": [
    {
     "name": "stdout",
     "output_type": "stream",
     "text": [
      "sai\n",
      "sandra\n"
     ]
    }
   ],
   "source": [
    "#countinue statement \n",
    "list=[\"sai\",\"kumar\",\"sandra\"]\n",
    "for n in list:\n",
    "    if(n==\"kumar\"):    \n",
    "        continue \n",
    "    print(n)\n",
    "   "
   ]
  },
  {
   "cell_type": "code",
   "execution_count": 117,
   "metadata": {},
   "outputs": [
    {
     "name": "stdout",
     "output_type": "stream",
     "text": [
      "1800 is leap year\n",
      "1804 is leap year\n",
      "1808 is leap year\n",
      "1812 is leap year\n",
      "1816 is leap year\n",
      "1820 is leap year\n",
      "1824 is leap year\n",
      "1828 is leap year\n",
      "1832 is leap year\n",
      "1836 is leap year\n",
      "1840 is leap year\n",
      "1844 is leap year\n",
      "1848 is leap year\n",
      "1852 is leap year\n",
      "1856 is leap year\n",
      "1860 is leap year\n",
      "1864 is leap year\n",
      "1868 is leap year\n",
      "1872 is leap year\n",
      "1876 is leap year\n",
      "1880 is leap year\n",
      "1884 is leap year\n",
      "1888 is leap year\n",
      "1892 is leap year\n",
      "1896 is leap year\n",
      "1900 is leap year\n",
      "1904 is leap year\n",
      "1908 is leap year\n",
      "1912 is leap year\n",
      "1916 is leap year\n",
      "1920 is leap year\n",
      "1924 is leap year\n",
      "1928 is leap year\n",
      "1932 is leap year\n",
      "1936 is leap year\n",
      "1940 is leap year\n",
      "1944 is leap year\n",
      "1948 is leap year\n",
      "1952 is leap year\n",
      "1956 is leap year\n",
      "1960 is leap year\n",
      "1964 is leap year\n",
      "1968 is leap year\n",
      "1972 is leap year\n",
      "1976 is leap year\n",
      "1980 is leap year\n",
      "1984 is leap year\n",
      "1988 is leap year\n",
      "1992 is leap year\n",
      "1996 is leap year\n",
      "2000 is leap year\n",
      "2004 is leap year\n",
      "2008 is leap year\n",
      "2012 is leap year\n",
      "2016 is leap year\n",
      "2020 is leap year\n"
     ]
    }
   ],
   "source": [
    "# all leap years from 1800 - 2021\n",
    "for i in range(1800,2021):\n",
    "    if(i%4==0):\n",
    "        print(i,\"is leap year\")"
   ]
  },
  {
   "cell_type": "markdown",
   "metadata": {},
   "source": [
    "# User defined function "
   ]
  },
  {
   "cell_type": "code",
   "execution_count": 119,
   "metadata": {},
   "outputs": [
    {
     "name": "stdout",
     "output_type": "stream",
     "text": [
      "sum is :\t 5\n",
      "sub is :\t -1\n",
      "mul is :\t 6\n",
      "div is :\t 0.6666666666666666\n",
      "mod is :\t 2\n",
      "flo is :\t 0\n"
     ]
    }
   ],
   "source": [
    "#creating arethematic operators using user defined functions\n",
    "def Arthimatic(a,b):\n",
    "    print (\"sum is :\\t\",a+b)\n",
    "    print (\"sub is :\\t\",a-b)\n",
    "    print (\"mul is :\\t\",a*b)\n",
    "    print (\"div is :\\t\",a/b)\n",
    "    print (\"mod is :\\t\",a%b)\n",
    "    print (\"flo is :\\t\",a//b)\n",
    "Arthimatic(2,3)"
   ]
  },
  {
   "cell_type": "code",
   "execution_count": null,
   "metadata": {},
   "outputs": [],
   "source": []
  },
  {
   "cell_type": "code",
   "execution_count": 125,
   "metadata": {},
   "outputs": [
    {
     "name": "stdout",
     "output_type": "stream",
     "text": [
      "sai\n",
      "Welcome to DataScience program Mr. sai\n"
     ]
    }
   ],
   "source": [
    "#Welcome With input \n",
    "\n",
    "def welcome():\n",
    "    name=input()\n",
    "    print(\"Welcome to DataScience program\",\"Mr.\",name)\n",
    "welcome()"
   ]
  },
  {
   "cell_type": "markdown",
   "metadata": {},
   "source": [
    "# Lambda function "
   ]
  },
  {
   "cell_type": "code",
   "execution_count": 126,
   "metadata": {},
   "outputs": [
    {
     "name": "stdout",
     "output_type": "stream",
     "text": [
      "5\n"
     ]
    }
   ],
   "source": [
    "# sum using lambda function \n",
    "Add=lambda a,b:a+b\n",
    "print(Add(2,3))"
   ]
  },
  {
   "cell_type": "code",
   "execution_count": 4,
   "metadata": {},
   "outputs": [
    {
     "name": "stdout",
     "output_type": "stream",
     "text": [
      "[1, 2, 3, 4, 5, 6, 7, 8, 9, 10]\n",
      "[0, 2, 4, 6, 8, 10]\n"
     ]
    }
   ],
   "source": [
    "# create a list using loop\n",
    "# Create a list of first 10 number using list comprehension\n",
    "list1=[]\n",
    "for i in range (1,11):\n",
    "    list1.append(i)\n",
    "print(list1)\n",
    "\n",
    "new_list=[i for i in range(11) if i%2==0]\n",
    "\n",
    "print(new_list)\n",
    "\n"
   ]
  },
  {
   "cell_type": "code",
   "execution_count": 3,
   "metadata": {},
   "outputs": [
    {
     "data": {
      "text/plain": [
       "[1, 2, 3, 4, 5, 6, 7, 8, 9, 10]"
      ]
     },
     "execution_count": 3,
     "metadata": {},
     "output_type": "execute_result"
    }
   ],
   "source": [
    "list1"
   ]
  },
  {
   "cell_type": "code",
   "execution_count": 6,
   "metadata": {
    "scrolled": true
   },
   "outputs": [
    {
     "name": "stdout",
     "output_type": "stream",
     "text": [
      "[2, 4, 6, 8, 10]\n"
     ]
    }
   ],
   "source": [
    "# select all the even number form the list with filter()\n",
    "l=[1,2,3,4,5,6,7,8,9,10]\n",
    "\n",
    "fill= list(filter(lambda X: X%2==0,l))\n",
    "print(fill)"
   ]
  },
  {
   "cell_type": "code",
   "execution_count": 13,
   "metadata": {},
   "outputs": [
    {
     "name": "stdout",
     "output_type": "stream",
     "text": [
      "[1, 4, 9, 16, 25, 36, 49, 64, 81, 100]\n"
     ]
    }
   ],
   "source": [
    "# get  the squiares of numbers form the list with map()\n",
    "import math\n",
    "m = list(map(lambda x: round(math.pow(x,2)), l))\n",
    "print(m)"
   ]
  },
  {
   "cell_type": "code",
   "execution_count": 14,
   "metadata": {},
   "outputs": [
    {
     "name": "stdout",
     "output_type": "stream",
     "text": [
      "55\n"
     ]
    }
   ],
   "source": [
    "#get the sum of numbers of the list using reduce()\n",
    "from functools import reduce\n",
    "reduc=reduce(lambda a,b:a+b,list1)\n",
    "print(reduc)"
   ]
  },
  {
   "cell_type": "code",
   "execution_count": null,
   "metadata": {},
   "outputs": [],
   "source": []
  }
 ],
 "metadata": {
  "kernelspec": {
   "display_name": "Python 3",
   "language": "python",
   "name": "python3"
  },
  "language_info": {
   "codemirror_mode": {
    "name": "ipython",
    "version": 3
   },
   "file_extension": ".py",
   "mimetype": "text/x-python",
   "name": "python",
   "nbconvert_exporter": "python",
   "pygments_lexer": "ipython3",
   "version": "3.8.5"
  },
  "toc": {
   "base_numbering": 1,
   "nav_menu": {},
   "number_sections": true,
   "sideBar": true,
   "skip_h1_title": false,
   "title_cell": "Table of Contents",
   "title_sidebar": "Contents",
   "toc_cell": false,
   "toc_position": {},
   "toc_section_display": true,
   "toc_window_display": true
  }
 },
 "nbformat": 4,
 "nbformat_minor": 2
}
